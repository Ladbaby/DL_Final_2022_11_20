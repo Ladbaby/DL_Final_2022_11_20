{
 "cells": [
  {
   "cell_type": "code",
   "execution_count": 1,
   "metadata": {},
   "outputs": [
    {
     "name": "stderr",
     "output_type": "stream",
     "text": [
      "c:\\Users\\Firefly\\Apps\\Anaconda\\envs\\pytorch\\lib\\site-packages\\tqdm\\auto.py:22: TqdmWarning: IProgress not found. Please update jupyter and ipywidgets. See https://ipywidgets.readthedocs.io/en/stable/user_install.html\n",
      "  from .autonotebook import tqdm as notebook_tqdm\n"
     ]
    }
   ],
   "source": [
    "import time\n",
    "from config import *\n",
    "import torch.backends.cudnn as cudnn\n",
    "import torch.optim\n",
    "import torch.utils.data\n",
    "from torch import nn\n",
    "from tqdm import tqdm\n",
    "from torch.nn.utils.rnn import pack_padded_sequence\n",
    "from model.utils import *\n",
    "from model import metrics,dataloader,model\n",
    "from torch.utils.checkpoint import checkpoint as train_ck\n",
    "import json"
   ]
  },
  {
   "cell_type": "code",
   "execution_count": 2,
   "metadata": {},
   "outputs": [],
   "source": [
    "# generate val.json and train.json\n",
    "# vocab1, data = get_latex_ocrdata(path=\"./data/CROHME/\", mode=\"val\")\n",
    "# data = json.dumps(data, indent=4)\n",
    "# with open(\"./data/CROHME/val.json\", 'w', encoding=\"utf-8\") as f:\n",
    "#     f.write(data)\n",
    "# vocab2, data = get_latex_ocrdata(path=\"./data/CROHME/\", mode=\"train\")\n",
    "# data = json.dumps(data, indent=4)\n",
    "# with open(\"./data/CROHME/train.json\", 'w', encoding=\"utf-8\") as f:\n",
    "#     f.write(data)\n",
    "\n",
    "# vocab3 = dict(vocab1, **vocab2)\n",
    "# vocab3 = json.dumps(vocab3, indent=4)\n",
    "# with open(\"./data/CROHME/vocab.json\", 'w', encoding=\"utf-8\") as f:\n",
    "#     f.write(vocab3)"
   ]
  },
  {
   "cell_type": "code",
   "execution_count": 3,
   "metadata": {},
   "outputs": [],
   "source": [
    "device = torch.device(\"cuda\" if torch.cuda.is_available() else \"cpu\")\n",
    "# device = \"cpu\"\n",
    "\n",
    "\n",
    "model.device = device\n",
    "'''\n",
    "如果网络的输入数据维度或类型上变化不大，设置  torch.backends.cudnn.benchmark = true  可以增加运行效率；\n",
    "如果网络的输入数据在每次 iteration 都变化的话，会导致 cnDNN 每次都会去寻找一遍最优配置，这样反而会降低运行效率。\n",
    "'''\n",
    "cudnn.benchmark = True\n",
    "\n",
    "\n",
    "def train(train_loader, encoder, decoder, criterion, encoder_optimizer,decoder_optimizer, epoch, p):\n",
    "    \"\"\"\n",
    "    Performs one epoch's training.\n",
    "    :param train_loader: 训练集的dataloader\n",
    "    :param encoder: encoder model\n",
    "    :param decoder: decoder model\n",
    "    :param criterion: 损失函数\n",
    "    :param encoder_optimizer: optimizer to update encoder's weights (if fine-tuning)\n",
    "    :param decoder_optimizer: optimizer to update decoder's weights\n",
    "    :param epoch: epoch number\n",
    "    \"\"\"\n",
    "\n",
    "    torch.autograd.set_detect_anomaly(True)\n",
    "\n",
    "    decoder.train()  # train mode (dropout and batchnorm is used)\n",
    "    encoder.train()\n",
    "\n",
    "    batch_time = AverageMeter()  # forward prop. + back prop. time\n",
    "    losses = AverageMeter()  # loss (per word decoded)\n",
    "    top3accs = AverageMeter()  # top5 accuracy\n",
    "\n",
    "    start = time.time()\n",
    "\n",
    "    # Batches\n",
    "    for i, (imgs, caps, caplens) in tqdm(enumerate(train_loader)):\n",
    "    # for i, (imgs, caps, caplens) in enumerate(train_loader):\n",
    "        # Move to GPU, if available\n",
    "        imgs = imgs.to(device)\n",
    "        caps = caps.to(device)\n",
    "        caplens = caplens.to(device)\n",
    "\n",
    "        # Forward prop.\n",
    "        # try:\n",
    "        #     imgs = encoder(imgs)\n",
    "        #     scores, caps_sorted, decode_lengths, alphas, sort_ind = decoder(imgs, caps, caplens)\n",
    "        # except:\n",
    "        # imgs.requires_grad = True\n",
    "        # imgs = train_ck(encoder,imgs)\n",
    "        try:\n",
    "            imgs = encoder(imgs)\n",
    "        except:\n",
    "            imgs = train_ck(encoder,imgs)\n",
    "        scores, caps_sorted, decode_lengths, alphas, sort_ind = decoder(imgs, caps, caplens, p=p)\n",
    "\n",
    "        # 由于加入开始符<start>以及停止符<end>,caption从第二位开始,知道结束符\n",
    "        targets = caps_sorted[:, 1:]\n",
    "\n",
    "        # Remove timesteps that we didn't decode at, or are pads\n",
    "        # pack_padded_sequence is an easy trick to do this\n",
    "        # scores, _ = pack_padded_sequence(scores, decode_lengths, batch_first=True)\n",
    "        # targets, _ = pack_padded_sequence(targets, decode_lengths, batch_first=True)\n",
    "        scores = pack_padded_sequence(scores, decode_lengths, batch_first=True).data\n",
    "        targets = pack_padded_sequence(targets, decode_lengths, batch_first=True).data\n",
    "\n",
    "        # Calculate loss\n",
    "        scores = scores.to(device)\n",
    "        loss = criterion(scores, targets)\n",
    "\n",
    "        # 加入 doubly stochastic attention 正则化\n",
    "        loss += alpha_c * ((1. - alphas.sum(dim=1)) ** 2).mean()\n",
    "\n",
    "        # 反向传播\n",
    "        encoder_optimizer.zero_grad()\n",
    "        decoder_optimizer.zero_grad()\n",
    "        loss.backward()\n",
    "\n",
    "        # 梯度裁剪\n",
    "        if grad_clip is not None:\n",
    "            clip_gradient(decoder_optimizer, grad_clip)\n",
    "            # if encoder_optimizer is not None:\n",
    "            #     clip_gradient(encoder_optimizer, grad_clip)\n",
    "\n",
    "        # 更新权重\n",
    "        decoder_optimizer.step()\n",
    "        encoder_optimizer.step()\n",
    "        # if encoder_optimizer is not None:\n",
    "        #     encoder_optimizer.step()\n",
    "\n",
    "        # Keep track of metrics\n",
    "        top3 = accuracy(scores, targets, 3)\n",
    "        losses.update(loss.item(), sum(decode_lengths))\n",
    "        top3accs.update(top3, sum(decode_lengths))\n",
    "        batch_time.update(time.time() - start)\n",
    "\n",
    "        start = time.time()\n",
    "\n",
    "        # Print status\n",
    "        if i % print_freq == 0:\n",
    "            print('Epoch: [{0}][{1}/{2}]\\t'\n",
    "                  'Batch Time {batch_time.val:.3f} ({batch_time.avg:.3f})\\t'\n",
    "                  'Loss {loss.val:.4f} ({loss.avg:.4f})\\t'\n",
    "                  'Top-3 Accuracy {top3.val:.3f} ({top3.avg:.3f})'.format(epoch, i, len(train_loader),\n",
    "                                                                          batch_time=batch_time,\n",
    "                                                                          loss=losses,\n",
    "                                                                          top3=top3accs))\n",
    "        # if i % save_freq == 0:\n",
    "        #     save_checkpoint(data_name, epoch, epochs_since_improvement, encoder, decoder,encoder_optimizer,\n",
    "        #                 decoder_optimizer, 0,0)\n",
    "        del imgs, scores, caps_sorted, decode_lengths, alphas, sort_ind, loss, targets\n",
    "        torch.cuda.empty_cache()\n",
    "\n",
    "\n",
    "def validate(val_loader, encoder, decoder, criterion):\n",
    "    \"\"\"\n",
    "    Performs one epoch's validation.\n",
    "    :param val_loader: 用于验证集的dataloader\n",
    "    :param encoder: encoder model\n",
    "    :param decoder: decoder model\n",
    "    :param criterion: 损失函数\n",
    "    :return: 验证集上的BLEU-4 score\n",
    "    \"\"\"\n",
    "    decoder.eval()  # 推断模式,取消dropout以及批标准化\n",
    "    if encoder is not None:\n",
    "        encoder.eval()\n",
    "\n",
    "    batch_time = AverageMeter()\n",
    "    losses = AverageMeter()\n",
    "    top3accs = AverageMeter()\n",
    "\n",
    "    start = time.time()\n",
    "\n",
    "    references = list()  # references (true captions) for calculating BLEU-4 score\n",
    "    hypotheses = list()  # hypotheses (predictions)\n",
    "\n",
    "    # explicitly disable gradient calculation to avoid CUDA memory error\n",
    "    with torch.no_grad():\n",
    "        # Batches\n",
    "        # for i, (imgs, caps, caplens, allcaps) in enumerate(val_loader):\n",
    "        # for i, (imgs, caps, caplens) in tqdm(enumerate(val_loader)):\n",
    "        for i, (imgs, caps, caplens) in enumerate(val_loader):\n",
    "\n",
    "            # Move to device, if available\n",
    "            imgs = imgs.to(device)\n",
    "            caps = caps.to(device)\n",
    "            caplens = caplens.to(device)\n",
    "\n",
    "            # Forward prop.\n",
    "            if encoder is not None:\n",
    "                imgs = encoder(imgs)\n",
    "            scores, caps_sorted, decode_lengths, alphas, sort_ind = decoder(imgs, caps, caplens, p=0)\n",
    "\n",
    "            # Since we decoded starting with <start>, the targets are all words after <start>, up to <end>\n",
    "            targets = caps_sorted[:, 1:]\n",
    "\n",
    "            # Remove timesteps that we didn't decode at, or are pads\n",
    "            # pack_padded_sequence is an easy trick to do this\n",
    "            scores_copy = scores.clone()\n",
    "            scores = pack_padded_sequence(scores, decode_lengths, batch_first=True).data\n",
    "            targets = pack_padded_sequence(targets, decode_lengths, batch_first=True).data\n",
    "\n",
    "            # Calculate loss\n",
    "            loss = criterion(scores, targets)\n",
    "\n",
    "            # Add doubly stochastic attention regularization\n",
    "            loss += alpha_c * ((1. - alphas.sum(dim=1)) ** 2).mean()\n",
    "\n",
    "            # Keep track of metrics\n",
    "            losses.update(loss.item(), sum(decode_lengths))\n",
    "            top3 = accuracy(scores, targets, 3)\n",
    "            top3accs.update(top3, sum(decode_lengths))\n",
    "            batch_time.update(time.time() - start)\n",
    "\n",
    "            start = time.time()\n",
    "\n",
    "            if i % print_freq == 0:\n",
    "                print('Validation: [{0}/{1}],'\n",
    "                      'Batch Time {batch_time.val:.3f} ({batch_time.avg:.3f}),'\n",
    "                      'Loss {loss.val:.4f} ({loss.avg:.4f}),'\n",
    "                      'Top-3 Accuracy {top3.val:.3f} ({top3.avg:.3f}),'.format(i, len(val_loader), batch_time=batch_time,\n",
    "                                                                                loss=losses, top3=top3accs))\n",
    "\n",
    "            # Store references (true captions), and hypothesis (prediction) for each image\n",
    "            # If for n images, we have n hypotheses, and references a, b, c... for each image, we need -\n",
    "            # references = [[ref1a, ref1b, ref1c], [ref2a, ref2b], ...], hypotheses = [hyp1, hyp2, ...]\n",
    "\n",
    "            # References\n",
    "            # allcaps = allcaps[sort_ind]  # because images were sorted in the decoder\n",
    "            # for j in range(allcaps.shape[0]):\n",
    "            #     img_caps = allcaps[j].tolist()\n",
    "            #     img_captions = list(\n",
    "            #         map(lambda c: [w for w in c if w not in {word_map['<start>'], word_map['<pad>']}],\n",
    "            #             img_caps))  # remove <start> and pads\n",
    "            #     references.append(img_captions)\n",
    "            caplens = caplens[sort_ind]\n",
    "            caps = caps[sort_ind]\n",
    "            for i in range(len(caplens)):\n",
    "                references.append(caps[i][1:caplens[i]].tolist())\n",
    "            # Hypotheses\n",
    "            # 这里直接使用greedy模式进行评价,在推断中一般使用集束搜索模式\n",
    "            _, preds = torch.max(scores_copy, dim=2)\n",
    "            preds = preds.tolist()\n",
    "            temp_preds = list()\n",
    "            for j, p in enumerate(preds):\n",
    "                temp_preds.append(preds[j][:decode_lengths[j]])  # remove pads\n",
    "            preds = temp_preds\n",
    "            hypotheses.extend(preds)\n",
    "\n",
    "            assert len(references) == len(hypotheses)\n",
    "\n",
    "        Score = metrics.evaluate(losses, top3accs, references, hypotheses)\n",
    "    return Score\n"
   ]
  },
  {
   "cell_type": "code",
   "execution_count": 4,
   "metadata": {},
   "outputs": [
    {
     "name": "stderr",
     "output_type": "stream",
     "text": [
      "c:\\Users\\Firefly\\Apps\\E\\VS_Code\\VS_Code_Python\\Course\\DL\\Final\\model\\dataloader.py:98: VisibleDeprecationWarning: Creating an ndarray from ragged nested sequences (which is a list-or-tuple of lists-or-tuples-or ndarrays with different lengths or shapes) is deprecated. If you meant to do this, you must specify 'dtype=object' when creating the ndarray.\n",
      "  self.bucket_data = np.array(self.bucket_data)\n"
     ]
    },
    {
     "name": "stdout",
     "output_type": "stream",
     "text": [
      "Bucking data...\n",
      "finish bucking!\n",
      "Bucking data...\n",
      "finish bucking!\n",
      "start epoch:0 p:1.00\n"
     ]
    },
    {
     "name": "stderr",
     "output_type": "stream",
     "text": [
      "1it [00:06,  6.24s/it]"
     ]
    },
    {
     "name": "stdout",
     "output_type": "stream",
     "text": [
      "Epoch: [0][0/45548]\tBatch Time 6.241 (0.862)\tLoss 6.4472 (0.8657)\tTop-3 Accuracy 1.923 (0.658)\n"
     ]
    },
    {
     "name": "stderr",
     "output_type": "stream",
     "text": [
      "101it [01:15,  1.36it/s]"
     ]
    },
    {
     "name": "stdout",
     "output_type": "stream",
     "text": [
      "Epoch: [0][100/45548]\tBatch Time 1.045 (0.987)\tLoss 4.6663 (0.9969)\tTop-3 Accuracy 23.810 (0.999)\n"
     ]
    },
    {
     "name": "stderr",
     "output_type": "stream",
     "text": [
      "201it [02:28,  1.87it/s]"
     ]
    },
    {
     "name": "stdout",
     "output_type": "stream",
     "text": [
      "Epoch: [0][200/45548]\tBatch Time 0.397 (0.993)\tLoss 6.7350 (0.9996)\tTop-3 Accuracy 16.667 (1.000)\n"
     ]
    },
    {
     "name": "stderr",
     "output_type": "stream",
     "text": [
      "301it [03:38,  1.89it/s]"
     ]
    },
    {
     "name": "stdout",
     "output_type": "stream",
     "text": [
      "Epoch: [0][300/45548]\tBatch Time 0.598 (0.995)\tLoss 4.4357 (0.9994)\tTop-3 Accuracy 25.000 (1.000)\n"
     ]
    },
    {
     "name": "stderr",
     "output_type": "stream",
     "text": [
      "401it [04:49,  1.20it/s]"
     ]
    },
    {
     "name": "stdout",
     "output_type": "stream",
     "text": [
      "Epoch: [0][400/45548]\tBatch Time 1.023 (0.997)\tLoss 5.9649 (0.9992)\tTop-3 Accuracy 30.000 (1.000)\n"
     ]
    },
    {
     "name": "stderr",
     "output_type": "stream",
     "text": [
      "501it [05:55,  1.28it/s]"
     ]
    },
    {
     "name": "stdout",
     "output_type": "stream",
     "text": [
      "Epoch: [0][500/45548]\tBatch Time 0.828 (0.997)\tLoss 6.1317 (0.9995)\tTop-3 Accuracy 5.882 (1.000)\n"
     ]
    },
    {
     "name": "stderr",
     "output_type": "stream",
     "text": [
      "601it [07:04,  1.26it/s]"
     ]
    },
    {
     "name": "stdout",
     "output_type": "stream",
     "text": [
      "Epoch: [0][600/45548]\tBatch Time 1.039 (0.998)\tLoss 4.4934 (0.9994)\tTop-3 Accuracy 31.818 (1.000)\n"
     ]
    },
    {
     "name": "stderr",
     "output_type": "stream",
     "text": [
      "616it [07:13,  1.42it/s]\n"
     ]
    },
    {
     "ename": "KeyboardInterrupt",
     "evalue": "",
     "output_type": "error",
     "traceback": [
      "\u001b[1;31m---------------------------------------------------------------------------\u001b[0m",
      "\u001b[1;31mKeyboardInterrupt\u001b[0m                         Traceback (most recent call last)",
      "Cell \u001b[1;32mIn [4], line 78\u001b[0m\n\u001b[0;32m     72\u001b[0m     adjust_learning_rate(encoder_optimizer, \u001b[38;5;241m0.8\u001b[39m)\n\u001b[0;32m     73\u001b[0m \u001b[38;5;66;03m#动态学习率调节\u001b[39;00m\n\u001b[0;32m     74\u001b[0m \u001b[38;5;66;03m# torch.optim.lr_scheduler.ReduceLROnPlateau(optimizer, mode='max', factor=0.8, \u001b[39;00m\n\u001b[0;32m     75\u001b[0m \u001b[38;5;66;03m#     patience=4, verbose=True, threshold=0.0001, threshold_mode='rel', cooldown=0, min_lr=1e-6, eps=1e-8)\u001b[39;00m\n\u001b[0;32m     76\u001b[0m \n\u001b[0;32m     77\u001b[0m \u001b[38;5;66;03m# One epoch's training\u001b[39;00m\n\u001b[1;32m---> 78\u001b[0m \u001b[43mtrain\u001b[49m\u001b[43m(\u001b[49m\u001b[43mtrain_loader\u001b[49m\u001b[38;5;241;43m=\u001b[39;49m\u001b[43mtrain_loader\u001b[49m\u001b[43m,\u001b[49m\n\u001b[0;32m     79\u001b[0m \u001b[43m        \u001b[49m\u001b[43mencoder\u001b[49m\u001b[38;5;241;43m=\u001b[39;49m\u001b[43mencoder\u001b[49m\u001b[43m,\u001b[49m\n\u001b[0;32m     80\u001b[0m \u001b[43m        \u001b[49m\u001b[43mdecoder\u001b[49m\u001b[38;5;241;43m=\u001b[39;49m\u001b[43mdecoder\u001b[49m\u001b[43m,\u001b[49m\n\u001b[0;32m     81\u001b[0m \u001b[43m        \u001b[49m\u001b[43mcriterion\u001b[49m\u001b[38;5;241;43m=\u001b[39;49m\u001b[43mcriterion\u001b[49m\u001b[43m,\u001b[49m\n\u001b[0;32m     82\u001b[0m \u001b[43m        \u001b[49m\u001b[43mencoder_optimizer\u001b[49m\u001b[38;5;241;43m=\u001b[39;49m\u001b[43mdecoder_optimizer\u001b[49m\u001b[43m,\u001b[49m\n\u001b[0;32m     83\u001b[0m \u001b[43m        \u001b[49m\u001b[43mdecoder_optimizer\u001b[49m\u001b[38;5;241;43m=\u001b[39;49m\u001b[43mdecoder_optimizer\u001b[49m\u001b[43m,\u001b[49m\n\u001b[0;32m     84\u001b[0m \u001b[43m        \u001b[49m\u001b[43mepoch\u001b[49m\u001b[38;5;241;43m=\u001b[39;49m\u001b[43mepoch\u001b[49m\u001b[43m,\u001b[49m\u001b[43mp\u001b[49m\u001b[38;5;241;43m=\u001b[39;49m\u001b[43mp\u001b[49m\u001b[43m)\u001b[49m\u001b[38;5;66;03m#encoder_optimizer=encoder_optimizer,\u001b[39;00m\n\u001b[0;32m     86\u001b[0m \u001b[38;5;66;03m# One epoch's validation\u001b[39;00m\n\u001b[0;32m     87\u001b[0m recent_score \u001b[38;5;241m=\u001b[39m validate(val_loader\u001b[38;5;241m=\u001b[39mval_loader,\n\u001b[0;32m     88\u001b[0m                         encoder\u001b[38;5;241m=\u001b[39mencoder,\n\u001b[0;32m     89\u001b[0m                         decoder\u001b[38;5;241m=\u001b[39mdecoder,\n\u001b[0;32m     90\u001b[0m                         criterion\u001b[38;5;241m=\u001b[39mcriterion)\n",
      "Cell \u001b[1;32mIn [3], line 55\u001b[0m, in \u001b[0;36mtrain\u001b[1;34m(train_loader, encoder, decoder, criterion, encoder_optimizer, decoder_optimizer, epoch, p)\u001b[0m\n\u001b[0;32m     53\u001b[0m \u001b[38;5;28;01mexcept\u001b[39;00m:\n\u001b[0;32m     54\u001b[0m     imgs \u001b[38;5;241m=\u001b[39m train_ck(encoder,imgs)\n\u001b[1;32m---> 55\u001b[0m scores, caps_sorted, decode_lengths, alphas, sort_ind \u001b[38;5;241m=\u001b[39m \u001b[43mdecoder\u001b[49m\u001b[43m(\u001b[49m\u001b[43mimgs\u001b[49m\u001b[43m,\u001b[49m\u001b[43m \u001b[49m\u001b[43mcaps\u001b[49m\u001b[43m,\u001b[49m\u001b[43m \u001b[49m\u001b[43mcaplens\u001b[49m\u001b[43m,\u001b[49m\u001b[43m \u001b[49m\u001b[43mp\u001b[49m\u001b[38;5;241;43m=\u001b[39;49m\u001b[43mp\u001b[49m\u001b[43m)\u001b[49m\n\u001b[0;32m     57\u001b[0m \u001b[38;5;66;03m# 由于加入开始符<start>以及停止符<end>,caption从第二位开始,知道结束符\u001b[39;00m\n\u001b[0;32m     58\u001b[0m targets \u001b[38;5;241m=\u001b[39m caps_sorted[:, \u001b[38;5;241m1\u001b[39m:]\n",
      "File \u001b[1;32mc:\\Users\\Firefly\\Apps\\Anaconda\\envs\\pytorch\\lib\\site-packages\\torch\\nn\\modules\\module.py:1190\u001b[0m, in \u001b[0;36mModule._call_impl\u001b[1;34m(self, *input, **kwargs)\u001b[0m\n\u001b[0;32m   1186\u001b[0m \u001b[39m# If we don't have any hooks, we want to skip the rest of the logic in\u001b[39;00m\n\u001b[0;32m   1187\u001b[0m \u001b[39m# this function, and just call forward.\u001b[39;00m\n\u001b[0;32m   1188\u001b[0m \u001b[39mif\u001b[39;00m \u001b[39mnot\u001b[39;00m (\u001b[39mself\u001b[39m\u001b[39m.\u001b[39m_backward_hooks \u001b[39mor\u001b[39;00m \u001b[39mself\u001b[39m\u001b[39m.\u001b[39m_forward_hooks \u001b[39mor\u001b[39;00m \u001b[39mself\u001b[39m\u001b[39m.\u001b[39m_forward_pre_hooks \u001b[39mor\u001b[39;00m _global_backward_hooks\n\u001b[0;32m   1189\u001b[0m         \u001b[39mor\u001b[39;00m _global_forward_hooks \u001b[39mor\u001b[39;00m _global_forward_pre_hooks):\n\u001b[1;32m-> 1190\u001b[0m     \u001b[39mreturn\u001b[39;00m forward_call(\u001b[39m*\u001b[39m\u001b[39minput\u001b[39m, \u001b[39m*\u001b[39m\u001b[39m*\u001b[39mkwargs)\n\u001b[0;32m   1191\u001b[0m \u001b[39m# Do not call functions when jit is used\u001b[39;00m\n\u001b[0;32m   1192\u001b[0m full_backward_hooks, non_full_backward_hooks \u001b[39m=\u001b[39m [], []\n",
      "File \u001b[1;32mc:\\Users\\Firefly\\Apps\\E\\VS_Code\\VS_Code_Python\\Course\\DL\\Final\\model\\model.py:258\u001b[0m, in \u001b[0;36mDecoderWithAttention.forward\u001b[1;34m(self, encoder_out, encoded_captions, caption_lengths, p)\u001b[0m\n\u001b[0;32m    255\u001b[0m batch_size_t \u001b[39m=\u001b[39m \u001b[39msum\u001b[39m([l \u001b[39m>\u001b[39m t \u001b[39mfor\u001b[39;00m l \u001b[39min\u001b[39;00m decode_lengths])\n\u001b[0;32m    256\u001b[0m attention_weighted_encoding, alpha \u001b[39m=\u001b[39m \u001b[39mself\u001b[39m\u001b[39m.\u001b[39mattention(encoder_out[:batch_size_t],\n\u001b[0;32m    257\u001b[0m                                                     h[:batch_size_t])\n\u001b[1;32m--> 258\u001b[0m gate \u001b[39m=\u001b[39m \u001b[39mself\u001b[39m\u001b[39m.\u001b[39msigmoid(\u001b[39mself\u001b[39;49m\u001b[39m.\u001b[39;49mf_beta(h[:batch_size_t]))  \u001b[39m# gating scalar, (batch_size_t, encoder_dim)\u001b[39;00m\n\u001b[0;32m    259\u001b[0m attention_weighted_encoding \u001b[39m=\u001b[39m gate \u001b[39m*\u001b[39m attention_weighted_encoding\n\u001b[0;32m    260\u001b[0m \u001b[39m# h, c = self.decode_step(\u001b[39;00m\n\u001b[0;32m    261\u001b[0m \u001b[39m#     torch.cat([embeddings[:batch_size_t, t, :], attention_weighted_encoding], dim=1),\u001b[39;00m\n\u001b[0;32m    262\u001b[0m \u001b[39m#     (h[:batch_size_t], c[:batch_size_t]))  # (batch_size_t, decoder_dim)\u001b[39;00m\n\u001b[0;32m    263\u001b[0m \u001b[39m#teahcer forcing\u001b[39;00m\n",
      "File \u001b[1;32mc:\\Users\\Firefly\\Apps\\Anaconda\\envs\\pytorch\\lib\\site-packages\\torch\\nn\\modules\\module.py:1190\u001b[0m, in \u001b[0;36mModule._call_impl\u001b[1;34m(self, *input, **kwargs)\u001b[0m\n\u001b[0;32m   1186\u001b[0m \u001b[39m# If we don't have any hooks, we want to skip the rest of the logic in\u001b[39;00m\n\u001b[0;32m   1187\u001b[0m \u001b[39m# this function, and just call forward.\u001b[39;00m\n\u001b[0;32m   1188\u001b[0m \u001b[39mif\u001b[39;00m \u001b[39mnot\u001b[39;00m (\u001b[39mself\u001b[39m\u001b[39m.\u001b[39m_backward_hooks \u001b[39mor\u001b[39;00m \u001b[39mself\u001b[39m\u001b[39m.\u001b[39m_forward_hooks \u001b[39mor\u001b[39;00m \u001b[39mself\u001b[39m\u001b[39m.\u001b[39m_forward_pre_hooks \u001b[39mor\u001b[39;00m _global_backward_hooks\n\u001b[0;32m   1189\u001b[0m         \u001b[39mor\u001b[39;00m _global_forward_hooks \u001b[39mor\u001b[39;00m _global_forward_pre_hooks):\n\u001b[1;32m-> 1190\u001b[0m     \u001b[39mreturn\u001b[39;00m forward_call(\u001b[39m*\u001b[39m\u001b[39minput\u001b[39m, \u001b[39m*\u001b[39m\u001b[39m*\u001b[39mkwargs)\n\u001b[0;32m   1191\u001b[0m \u001b[39m# Do not call functions when jit is used\u001b[39;00m\n\u001b[0;32m   1192\u001b[0m full_backward_hooks, non_full_backward_hooks \u001b[39m=\u001b[39m [], []\n",
      "File \u001b[1;32mc:\\Users\\Firefly\\Apps\\Anaconda\\envs\\pytorch\\lib\\site-packages\\torch\\nn\\modules\\linear.py:114\u001b[0m, in \u001b[0;36mLinear.forward\u001b[1;34m(self, input)\u001b[0m\n\u001b[0;32m    113\u001b[0m \u001b[39mdef\u001b[39;00m \u001b[39mforward\u001b[39m(\u001b[39mself\u001b[39m, \u001b[39minput\u001b[39m: Tensor) \u001b[39m-\u001b[39m\u001b[39m>\u001b[39m Tensor:\n\u001b[1;32m--> 114\u001b[0m     \u001b[39mreturn\u001b[39;00m F\u001b[39m.\u001b[39;49mlinear(\u001b[39minput\u001b[39;49m, \u001b[39mself\u001b[39;49m\u001b[39m.\u001b[39;49mweight, \u001b[39mself\u001b[39;49m\u001b[39m.\u001b[39;49mbias)\n",
      "File \u001b[1;32mc:\\Users\\Firefly\\Apps\\Anaconda\\envs\\pytorch\\lib\\site-packages\\torch\\fx\\traceback.py:57\u001b[0m, in \u001b[0;36mformat_stack\u001b[1;34m()\u001b[0m\n\u001b[0;32m     54\u001b[0m     \u001b[39mreturn\u001b[39;00m current_stack\u001b[39m.\u001b[39mcopy()\n\u001b[0;32m     55\u001b[0m \u001b[39melse\u001b[39;00m:\n\u001b[0;32m     56\u001b[0m     \u001b[39m# fallback to traceback.format_stack()\u001b[39;00m\n\u001b[1;32m---> 57\u001b[0m     \u001b[39mreturn\u001b[39;00m traceback\u001b[39m.\u001b[39;49mformat_stack()\n",
      "File \u001b[1;32mc:\\Users\\Firefly\\Apps\\Anaconda\\envs\\pytorch\\lib\\traceback.py:197\u001b[0m, in \u001b[0;36mformat_stack\u001b[1;34m(f, limit)\u001b[0m\n\u001b[0;32m    195\u001b[0m \u001b[39mif\u001b[39;00m f \u001b[39mis\u001b[39;00m \u001b[39mNone\u001b[39;00m:\n\u001b[0;32m    196\u001b[0m     f \u001b[39m=\u001b[39m sys\u001b[39m.\u001b[39m_getframe()\u001b[39m.\u001b[39mf_back\n\u001b[1;32m--> 197\u001b[0m \u001b[39mreturn\u001b[39;00m format_list(extract_stack(f, limit\u001b[39m=\u001b[39;49mlimit))\n",
      "File \u001b[1;32mc:\\Users\\Firefly\\Apps\\Anaconda\\envs\\pytorch\\lib\\traceback.py:211\u001b[0m, in \u001b[0;36mextract_stack\u001b[1;34m(f, limit)\u001b[0m\n\u001b[0;32m    209\u001b[0m \u001b[39mif\u001b[39;00m f \u001b[39mis\u001b[39;00m \u001b[39mNone\u001b[39;00m:\n\u001b[0;32m    210\u001b[0m     f \u001b[39m=\u001b[39m sys\u001b[39m.\u001b[39m_getframe()\u001b[39m.\u001b[39mf_back\n\u001b[1;32m--> 211\u001b[0m stack \u001b[39m=\u001b[39m StackSummary\u001b[39m.\u001b[39;49mextract(walk_stack(f), limit\u001b[39m=\u001b[39;49mlimit)\n\u001b[0;32m    212\u001b[0m stack\u001b[39m.\u001b[39mreverse()\n\u001b[0;32m    213\u001b[0m \u001b[39mreturn\u001b[39;00m stack\n",
      "File \u001b[1;32mc:\\Users\\Firefly\\Apps\\Anaconda\\envs\\pytorch\\lib\\traceback.py:362\u001b[0m, in \u001b[0;36mStackSummary.extract\u001b[1;34m(klass, frame_gen, limit, lookup_lines, capture_locals)\u001b[0m\n\u001b[0;32m    359\u001b[0m     result\u001b[39m.\u001b[39mappend(FrameSummary(\n\u001b[0;32m    360\u001b[0m         filename, lineno, name, lookup_line\u001b[39m=\u001b[39m\u001b[39mFalse\u001b[39;00m, \u001b[39mlocals\u001b[39m\u001b[39m=\u001b[39mf_locals))\n\u001b[0;32m    361\u001b[0m \u001b[39mfor\u001b[39;00m filename \u001b[39min\u001b[39;00m fnames:\n\u001b[1;32m--> 362\u001b[0m     linecache\u001b[39m.\u001b[39;49mcheckcache(filename)\n\u001b[0;32m    363\u001b[0m \u001b[39m# If immediate lookup was desired, trigger lookups now.\u001b[39;00m\n\u001b[0;32m    364\u001b[0m \u001b[39mif\u001b[39;00m lookup_lines:\n",
      "File \u001b[1;32mc:\\Users\\Firefly\\Apps\\Anaconda\\envs\\pytorch\\lib\\linecache.py:72\u001b[0m, in \u001b[0;36mcheckcache\u001b[1;34m(filename)\u001b[0m\n\u001b[0;32m     70\u001b[0m     \u001b[39mcontinue\u001b[39;00m   \u001b[39m# no-op for files loaded via a __loader__\u001b[39;00m\n\u001b[0;32m     71\u001b[0m \u001b[39mtry\u001b[39;00m:\n\u001b[1;32m---> 72\u001b[0m     stat \u001b[39m=\u001b[39m os\u001b[39m.\u001b[39;49mstat(fullname)\n\u001b[0;32m     73\u001b[0m \u001b[39mexcept\u001b[39;00m \u001b[39mOSError\u001b[39;00m:\n\u001b[0;32m     74\u001b[0m     cache\u001b[39m.\u001b[39mpop(filename, \u001b[39mNone\u001b[39;00m)\n",
      "\u001b[1;31mKeyboardInterrupt\u001b[0m: "
     ]
    }
   ],
   "source": [
    "# main\n",
    "\"\"\"\n",
    "Training and validation.\n",
    "\"\"\"\n",
    "# global best_score, epochs_since_improvement, checkpoint, start_epoch, fine_tune_encoder, data_name, word_map\n",
    "\n",
    "# 字典文件\n",
    "word_map = load_json(vocab_path)\n",
    "\n",
    "# Initialize / load checkpoint\n",
    "if checkpoint is None:\n",
    "    decoder = model.DecoderWithAttention(attention_dim=attention_dim,\n",
    "                                    embed_dim=emb_dim,\n",
    "                                    decoder_dim=decoder_dim,\n",
    "                                    vocab_size=len(word_map),\n",
    "                                    dropout=dropout)\n",
    "    decoder_optimizer = torch.optim.Adam(params=filter(lambda p: p.requires_grad, decoder.parameters()),\n",
    "                                            lr=decoder_lr)\n",
    "    encoder = model.Encoder()\n",
    "    # encoder_optimizer = None\n",
    "    encoder_optimizer = torch.optim.Adam(params=filter(lambda p: p.requires_grad, encoder.parameters()),\n",
    "                                            lr=encoder_lr)\n",
    "\n",
    "else:\n",
    "    checkpoint = torch.load(checkpoint)\n",
    "    start_epoch = checkpoint['epoch'] + 1\n",
    "    epochs_since_improvement = checkpoint['epochs_since_improvement']\n",
    "    best_score = checkpoint['score']\n",
    "    decoder = checkpoint['decoder']\n",
    "    encoder_optimizer = checkpoint['encoder_optimizer']\n",
    "    decoder_optimizer = checkpoint['decoder_optimizer']\n",
    "    encoder = checkpoint['encoder']\n",
    "    # encoder_optimizer = checkpoint['encoder_optimizer']\n",
    "    # encoder_optimizer = None\n",
    "    # if fine_tune_encoder is True and encoder_optimizer is None:\n",
    "    #     encoder.fine_tune(fine_tune_encoder)\n",
    "    #     encoder_optimizer = torch.optim.Adam(params=filter(lambda p: p.requires_grad, encoder.parameters()),\n",
    "    #                                          lr=encoder_lr)\n",
    "\n",
    "# Move to GPU, if available\n",
    "decoder = decoder.to(device)\n",
    "encoder = encoder.to(device)\n",
    "\n",
    "# 使用交叉熵损失函数\n",
    "criterion = nn.CrossEntropyLoss().to(device)\n",
    "\n",
    "# 自定义的数据集\n",
    "train_loader = dataloader.formuladataset(train_set_path,batch_size = batch_size,ratio = 5)\n",
    "val_loader = dataloader.formuladataset(val_set_path,batch_size = test_batch_size,ratio = 5)\n",
    "\n",
    "# #统计验证集的词频\n",
    "# words_freq = cal_word_freq(word_map,val_loader)\n",
    "# print(words_freq)\n",
    "p = 1#teacher forcing概率\n",
    "# Epochs\n",
    "for epoch in range(start_epoch, epochs):\n",
    "    train_loader.shuffle()\n",
    "    val_loader.shuffle()\n",
    "    #每2个epoch衰减一次teahcer forcing的概率\n",
    "    if p > 0.05:\n",
    "        if (epoch % 3 == 0 and epoch != 0):\n",
    "            p *= 0.75\n",
    "    else:\n",
    "        p = 0\n",
    "    print('start epoch:%u'%epoch,'p:%.2f'%p)\n",
    "\n",
    "    # 如果迭代4次后没有改善,则对学习率进行衰减,如果迭代20次都没有改善则触发早停.直到最大迭代次数\n",
    "    if epochs_since_improvement == 30:\n",
    "        break\n",
    "    if epochs_since_improvement > 0 and epochs_since_improvement % 2 == 0:\n",
    "        adjust_learning_rate(decoder_optimizer, 0.7)\n",
    "        adjust_learning_rate(encoder_optimizer, 0.8)\n",
    "    #动态学习率调节\n",
    "    # torch.optim.lr_scheduler.ReduceLROnPlateau(optimizer, mode='max', factor=0.8, \n",
    "    #     patience=4, verbose=True, threshold=0.0001, threshold_mode='rel', cooldown=0, min_lr=1e-6, eps=1e-8)\n",
    "\n",
    "    # One epoch's training\n",
    "    train(train_loader=train_loader,\n",
    "            encoder=encoder,\n",
    "            decoder=decoder,\n",
    "            criterion=criterion,\n",
    "            encoder_optimizer=decoder_optimizer,\n",
    "            decoder_optimizer=decoder_optimizer,\n",
    "            epoch=epoch,p=p)#encoder_optimizer=encoder_optimizer,\n",
    "\n",
    "    # One epoch's validation\n",
    "    recent_score = validate(val_loader=val_loader,\n",
    "                            encoder=encoder,\n",
    "                            decoder=decoder,\n",
    "                            criterion=criterion)\n",
    "    if (p==0):\n",
    "        print('Stop teacher forcing!')\n",
    "        # Check if there was an improvement\n",
    "        is_best = recent_score > best_score\n",
    "        best_score = max(recent_score, best_score)\n",
    "        if not is_best:\n",
    "            epochs_since_improvement += 1\n",
    "            print(\"\\nEpochs since last improvement: %d\\n\" % (epochs_since_improvement,))\n",
    "        else:\n",
    "            print('New Best Score!(%d)'%(best_score,))\n",
    "            epochs_since_improvement = 0\n",
    "\n",
    "        if epoch % save_freq == 0:\n",
    "            print('Saveing...')\n",
    "            save_checkpoint(data_name, epoch, epochs_since_improvement, encoder, decoder,encoder_optimizer,\n",
    "                        decoder_optimizer, recent_score, is_best)\n",
    "    print('--------------------------------------------------------------------------')\n",
    "\n"
   ]
  }
 ],
 "metadata": {
  "kernelspec": {
   "display_name": "Python 3.9.13 ('pytorch')",
   "language": "python",
   "name": "python3"
  },
  "language_info": {
   "codemirror_mode": {
    "name": "ipython",
    "version": 3
   },
   "file_extension": ".py",
   "mimetype": "text/x-python",
   "name": "python",
   "nbconvert_exporter": "python",
   "pygments_lexer": "ipython3",
   "version": "3.9.13"
  },
  "orig_nbformat": 4,
  "vscode": {
   "interpreter": {
    "hash": "0d0a6382a2dd5dede2c439ed4d1fdb90a625cb647d9cdd992567cd4c83268a6a"
   }
  }
 },
 "nbformat": 4,
 "nbformat_minor": 2
}
